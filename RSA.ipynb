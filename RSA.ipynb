{
 "cells": [
  {
   "cell_type": "markdown",
   "id": "1c7a227c",
   "metadata": {},
   "source": [
    "# RSA Encryption"
   ]
  },
  {
   "cell_type": "markdown",
   "id": "1958d543",
   "metadata": {},
   "source": [
    "RSA was invented by NORAD in the early 1970's but was deemed top secret. A few years later in 1977, Ron **R**ivest, Adi **S**hamir and Leonard **A**dleman independantly invented the exact same process for encryption and called it RSA. RSA is the most used software in the world to date and every internet user has used RSA at some point whether they knew it or not. \n",
    "\n",
    "It shares many mathematical similarities with Diffie-Hellman encryption, but it's conceptually a little different. Instead of thinking about public and private keys, RSA can be thought of as sending an unlocked padlock. The receiver of the message has a key and a padlock. He sends his **unlocked** padlock to the sender who then locks his message with the padlock. Then when it's sent back to him he knows the key for decrpytion.\n",
    "\n",
    "The problem RSA solves compared to Diffie-Hellman is that of key storage. When using Diffie-Hellman every key needs to be saved separately. This can be unwieldy for a large organizaion like a bank with many customers- the bank would need a different key for each customer. The solution to this is RSA!\n",
    "\n",
    "The entire process is based on Euler's theorem: $m^{φ(n)} \\equiv 1 \\mod n$, where $φ(n)$ is the product of two large prime numbers.\n"
   ]
  },
  {
   "cell_type": "markdown",
   "id": "90895e53",
   "metadata": {},
   "source": [
    "# RSA Encryption Process\n",
    "\n",
    "RSA encryption is a widely-used public key cryptosystem for secure data transmission. It involves mathematical operations based on prime numbers. Below is a detailed description of how RSA encryption works:\n",
    "\n",
    "## Key Generation\n",
    "1. **Select Two Prime Numbers**: Choose two large prime numbers, `p` and `q`.\n",
    "2. **Compute the Modulus `n`**: Calculate `n = p * q`. The value of `n` is used as the modulus for both the public and private keys.\n",
    "3. **Calculate the Totient (phi $φ$)**: Compute Euler's totient function, `φ(n) = (p-1) * (q-1)`.\n",
    "4. **Choose the Public Exponent `e`**: Select an integer `e` such that `1 < e < φ(n)` and `e` is coprime with `φ(n)`. Often, `e = 65537`.\n",
    "5. **Determine the Private Exponent `d`**: Calculate `d` as the modular multiplicative inverse of `e` modulo `φ(n)`.\n",
    "\n",
    "## Encryption Process\n",
    "1. **Public Key**: The public key consists of the modulus `n` and the public exponent `e`.\n",
    "2. **Encrypting a Message**: Convert the message into an integer `m` (e.g., via ASCII). Then, compute the ciphertext `c` using $c ≡ m^e (mod n)$.\n",
    "\n",
    "## Decryption Process\n",
    "1. **Private Key**: The private key is made of the modulus `n` and the private exponent `d`.\n",
    "2. **Decrypting a Message**: Decrypt the message by computing $m ≡ c^{d} (mod n)$ using the private key.\n",
    "\n",
    "## Security\n",
    "- RSA's security relies on the difficulty of factoring the product of two large prime numbers.\n",
    "- The security improves with larger key sizes but at the cost of slower encryption and decryption.\n",
    "\n",
    "## Practical Considerations\n",
    "- RSA is often used to encrypt a symmetric key, which is then used for data encryption.\n",
    "- Implementations must consider security aspects like padding schemes (e.g., OAEP) to prevent attacks.\n"
   ]
  },
  {
   "cell_type": "markdown",
   "id": "c3703d35",
   "metadata": {},
   "source": [
    "# Helper Functions"
   ]
  },
  {
   "cell_type": "code",
   "execution_count": 160,
   "id": "b377505d",
   "metadata": {},
   "outputs": [],
   "source": [
    "# Finds factors and determines if prime.\n",
    "\n",
    "def factors(number):\n",
    "    number  = int(number)\n",
    "    factors = set()\n",
    "    for i in range(1, int(number**0.5)+1):\n",
    "        if (number/i)%1 == 0:\n",
    "            factors.add(i)\n",
    "            factors.add(number // i)  # Add the corresponding divisor\n",
    "\n",
    "            \n",
    "    if len(factors) > 2:\n",
    "        return {'factors': factors, 'is_prime': False}\n",
    "    else:\n",
    "        return {'factors': factors, 'is_prime': True}\n"
   ]
  },
  {
   "cell_type": "code",
   "execution_count": 161,
   "id": "c60db056",
   "metadata": {},
   "outputs": [],
   "source": [
    "# Determines greatest common divisor of 2 numbers\n",
    "\n",
    "def gcd(a, b):\n",
    "    while b:\n",
    "        a, b = b, a % b\n",
    "    return a"
   ]
  },
  {
   "cell_type": "code",
   "execution_count": 162,
   "id": "8d29e39d",
   "metadata": {},
   "outputs": [],
   "source": [
    "# encode a string into an array of each character's numerical value\n",
    "\n",
    "def encode_string(string):\n",
    "    char_array = []\n",
    "    for char in string:\n",
    "        char_array.append(ord(char))\n",
    "    return char_array\n",
    "\n",
    "\n",
    "# decode an array of numerical values to their corresponding character\n",
    "\n",
    "def decode_string(arr):\n",
    "    decoded_arr = []\n",
    "    for i in arr:\n",
    "        decoded_arr.append(chr(i))\n",
    "    return \"\".join(decoded_arr)"
   ]
  },
  {
   "cell_type": "code",
   "execution_count": 163,
   "id": "c1fd1c99",
   "metadata": {},
   "outputs": [],
   "source": [
    "# calulate phi (φ) - the totient\n",
    "\n",
    "def calculate_phi(p, q):\n",
    "    if factors(p)['is_prime'] and factors(q)['is_prime']:\n",
    "        return (p - 1) * (q - 1)\n",
    "    \n",
    "    return 'Not prime numbers'\n"
   ]
  },
  {
   "cell_type": "markdown",
   "id": "f4885908",
   "metadata": {},
   "source": [
    "## Selecting the public key\n",
    "\n",
    "$e$ should be an integer that is not only greater than 1 but also less than $φ(n)$, where $n = pq$ (the product of two distinct prime numbers $p$ and $q$).\n",
    "\n",
    "$e$ and $φ(n)$ should be coprime, meaning they should have no common factors other than 1. This ensures that $e$ has a multiplicative inverse $mod φ(n)$."
   ]
  },
  {
   "cell_type": "code",
   "execution_count": 164,
   "id": "a1c810fd",
   "metadata": {},
   "outputs": [],
   "source": [
    "# Calculate if numbers are co-prime\n",
    "\n",
    "def are_coprime(number1, number2):\n",
    "    number1_factors = factors(number1)['factors']\n",
    "    number2_factors = factors(number2)['factors']\n",
    "    \n",
    "    common_factors = number1_factors.intersection(number2_factors)\n",
    "    \n",
    "    # if the intersection of common factors is only 1 return True\n",
    "    return common_factors == {1}\n"
   ]
  },
  {
   "cell_type": "code",
   "execution_count": 165,
   "id": "75215ca4",
   "metadata": {},
   "outputs": [],
   "source": [
    "# Calculate e - the public exponent\n",
    "\n",
    "def find_suitable_e(totient):\n",
    "    # Start with 65537\n",
    "    e = 65537\n",
    "\n",
    "    # Check if e is less than totient and coprime with the totient\n",
    "    # If not, decrement by 2 (to keep e as an odd number) and check again\n",
    "    while e >= totient or not are_coprime(e, totient):\n",
    "        e -= 2\n",
    "        if e <= 2:\n",
    "            raise ValueError(\"Could not find an appropriate 'e' value.\")\n",
    "\n",
    "    return e\n"
   ]
  },
  {
   "cell_type": "code",
   "execution_count": 166,
   "id": "d4e8a29e",
   "metadata": {},
   "outputs": [],
   "source": [
    "def encrypt(message, e, n):\n",
    "    if isinstance(message, list):\n",
    "        encrypted_list = []\n",
    "        for i in message:\n",
    "            encrypted_list.append(pow(i, e, n))\n",
    "        return encrypted_list\n",
    "    else:\n",
    "        return []"
   ]
  },
  {
   "cell_type": "markdown",
   "id": "a6a29cd7",
   "metadata": {},
   "source": [
    "## Calculate d - The private exponent\n",
    "\n",
    "The private exponent `d` is the modular multiplicative inverse of `e modulo ϕ(n)`. \n",
    "This means `d` is the number that satisfies the equation \n",
    "$d × e ≡ 1 \\ modϕ(n)$.\n",
    "    "
   ]
  },
  {
   "cell_type": "code",
   "execution_count": 167,
   "id": "4d13ebf6",
   "metadata": {},
   "outputs": [],
   "source": [
    "def calculate_d(phi_n, e):\n",
    "    return pow(e, -1, phi_n)"
   ]
  },
  {
   "cell_type": "code",
   "execution_count": 168,
   "id": "c592bef8",
   "metadata": {},
   "outputs": [],
   "source": [
    "def decrypt(message, d, n):\n",
    "    decrypted = []\n",
    "    for i in message:\n",
    "        decrypted.append(pow(i, d, n))\n",
    "        \n",
    "    return decrypted"
   ]
  },
  {
   "cell_type": "markdown",
   "id": "00b937dc",
   "metadata": {},
   "source": [
    "# Watch RSA in action"
   ]
  },
  {
   "cell_type": "code",
   "execution_count": 169,
   "id": "70b87dd3",
   "metadata": {},
   "outputs": [
    {
     "name": "stdout",
     "output_type": "stream",
     "text": [
      "Pick your first prime: 61\n",
      "Pick your second prime: 59\n",
      "\n",
      "Alice's primes are 61 and 59\n"
     ]
    }
   ],
   "source": [
    "# Alice picks 2 prime numbers of similar size to compute `n`\n",
    "\n",
    "while True:\n",
    "    p1 = int(input('Pick your first prime: '))\n",
    "    p2 = int(input('Pick your second prime: '))\n",
    "    \n",
    "    p1_is_prime = factors(p1)['is_prime']\n",
    "    p2_is_prime = factors(p2)['is_prime']\n",
    "    \n",
    "    if p1_is_prime and p2_is_prime:\n",
    "        print(f\"\\nAlice's primes are {p1} and {p2}\")\n",
    "        print\n",
    "        break\n",
    "    elif not p1_is_prime and not p2_is_prime:\n",
    "        print(f'{p1} and {p2} are both not prime')\n",
    "    elif not p1_is_prime:\n",
    "        print(f'{p1} is not prime.')\n",
    "    elif not p2_is_prime:\n",
    "        print(f'{p2} is not prime.')\n",
    "        "
   ]
  },
  {
   "cell_type": "code",
   "execution_count": 170,
   "id": "aed756ee",
   "metadata": {},
   "outputs": [
    {
     "name": "stdout",
     "output_type": "stream",
     "text": [
      "Alice's n value is 61 x 59 = 3599\n"
     ]
    }
   ],
   "source": [
    "# Calculate n as the product of p1 and p2\n",
    "\n",
    "n = p1 * p2\n",
    "\n",
    "print(f\"Alice's n value is {p1} x {p2} = {n}\")"
   ]
  },
  {
   "cell_type": "code",
   "execution_count": 171,
   "id": "77a2c97e",
   "metadata": {},
   "outputs": [
    {
     "name": "stdout",
     "output_type": "stream",
     "text": [
      "φ(n) = (61 - 1) x (59 - 1) = 3480\n"
     ]
    }
   ],
   "source": [
    "# Calculate φ(n)\n",
    "\n",
    "phi = calculate_phi(p1, p2)\n",
    "\n",
    "print(f'φ(n) = ({p1} - 1) x ({p2} - 1) = {phi}')"
   ]
  },
  {
   "cell_type": "code",
   "execution_count": 172,
   "id": "25bfd795",
   "metadata": {},
   "outputs": [
    {
     "name": "stdout",
     "output_type": "stream",
     "text": [
      "65537\n"
     ]
    }
   ],
   "source": [
    "# Calculate exponent e, such that it is odd and coprime with φ(n)\n",
    "\n",
    "e = exponent(phi)\n",
    "\n",
    "print(e)"
   ]
  },
  {
   "cell_type": "markdown",
   "id": "d3b6c1a0",
   "metadata": {},
   "source": [
    "# Alice sends `n` and `e`\n",
    "\n",
    "Alice sends to Bob her values for `n` and `e`. This is like sending an open lock that Bob will use to lock up his message. He does this by calculating $m^{e} mod(n)$. Where `m` is the numerical value of his message."
   ]
  },
  {
   "cell_type": "code",
   "execution_count": 173,
   "id": "828d726c",
   "metadata": {},
   "outputs": [
    {
     "name": "stdout",
     "output_type": "stream",
     "text": [
      "Type a message to send: howdy\n",
      "Encoded but not encrypted message is:\n",
      "[104, 111, 119, 100, 121]\n",
      "\n"
     ]
    }
   ],
   "source": [
    "message = input('Type a message to send: ')\n",
    "\n",
    "encoded_message = encode_string(message)\n",
    "print(f'Encoded but not encrypted message is:\\n{encoded_message}\\n')"
   ]
  },
  {
   "cell_type": "code",
   "execution_count": 174,
   "id": "b0ffd8de",
   "metadata": {},
   "outputs": [
    {
     "name": "stdout",
     "output_type": "stream",
     "text": [
      "Encoded and encrypted message is:\n",
      " [706, 1636, 3364, 1285, 1097]\n"
     ]
    }
   ],
   "source": [
    "encrypted_message = encrypt(encoded_message, e, n)\n",
    "print(f'Encoded and encrypted message is:\\n {encrypted_message}')"
   ]
  },
  {
   "cell_type": "code",
   "execution_count": 175,
   "id": "42d9b1ec",
   "metadata": {},
   "outputs": [
    {
     "name": "stdout",
     "output_type": "stream",
     "text": [
      "2513 3599\n"
     ]
    }
   ],
   "source": [
    "# Alice decrypts the message using `d`\n",
    "d = calculate_d(phi, e)\n",
    "print(d, n)\n",
    "decrypted_message = decrypt(encrypted_message, d, n)"
   ]
  },
  {
   "cell_type": "code",
   "execution_count": 176,
   "id": "b24cc152",
   "metadata": {},
   "outputs": [
    {
     "name": "stdout",
     "output_type": "stream",
     "text": [
      "[104, 111, 119, 100, 121]\n"
     ]
    }
   ],
   "source": [
    "print(decrypted_message)"
   ]
  },
  {
   "cell_type": "code",
   "execution_count": 177,
   "id": "3ac9d331",
   "metadata": {},
   "outputs": [
    {
     "data": {
      "text/plain": [
       "'howdy'"
      ]
     },
     "execution_count": 177,
     "metadata": {},
     "output_type": "execute_result"
    }
   ],
   "source": [
    "decode_string(decrypted_message)"
   ]
  },
  {
   "cell_type": "code",
   "execution_count": null,
   "id": "634a98f1",
   "metadata": {},
   "outputs": [],
   "source": []
  }
 ],
 "metadata": {
  "kernelspec": {
   "display_name": "Python 3 (ipykernel)",
   "language": "python",
   "name": "python3"
  },
  "language_info": {
   "codemirror_mode": {
    "name": "ipython",
    "version": 3
   },
   "file_extension": ".py",
   "mimetype": "text/x-python",
   "name": "python",
   "nbconvert_exporter": "python",
   "pygments_lexer": "ipython3",
   "version": "3.10.5"
  }
 },
 "nbformat": 4,
 "nbformat_minor": 5
}
