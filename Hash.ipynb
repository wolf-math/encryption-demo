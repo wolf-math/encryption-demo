{
 "cells": [
  {
   "cell_type": "markdown",
   "id": "86819e47",
   "metadata": {},
   "source": [
    "# Hashing\n",
    "\n",
    "Hashing is a one way function that's used in encryption sceneios where the goal is secure storage, data integrity, and verification. This is unlike RSA which is a 2-way function for secure communication. Hashing is used for encrypting data, password storage, and data verification.\n",
    "\n",
    "Any website you've logged into with a password _should be_ storing your password as a hash, meaning the maintainers of said website couldn't figure out your password even if they wanted to. It's encrypted so the original cannot be extrapolated from the hash. \n",
    "\n",
    "Hashing can also work to verify data. If you've ever downloaded a Linux `.iso` and the instructions tell you to run `sha256sum linux_mint.iso`, the output will be a hash and it should match what the Linux Mint website says, otherwise someone may have tampered with it or it could be currupt. "
   ]
  },
  {
   "cell_type": "markdown",
   "id": "129854d6",
   "metadata": {},
   "source": [
    "## How does it work (conceptually)?\n",
    "\n",
    "1. The input is padded into chunks. All chunks are the same size. \n",
    "2. "
   ]
  }
 ],
 "metadata": {
  "kernelspec": {
   "display_name": "Python 3 (ipykernel)",
   "language": "python",
   "name": "python3"
  },
  "language_info": {
   "codemirror_mode": {
    "name": "ipython",
    "version": 3
   },
   "file_extension": ".py",
   "mimetype": "text/x-python",
   "name": "python",
   "nbconvert_exporter": "python",
   "pygments_lexer": "ipython3",
   "version": "3.10.5"
  }
 },
 "nbformat": 4,
 "nbformat_minor": 5
}
