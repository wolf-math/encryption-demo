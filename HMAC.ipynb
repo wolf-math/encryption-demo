{
 "cells": [
  {
   "cell_type": "markdown",
   "id": "b98b30a5",
   "metadata": {},
   "source": [
    "# HMAC (Hash-Based Message Authentication Code)\n",
    "\n",
    "HMAC is a symmetrical encryption method for message authentication using has functions. Several protocols use HMAC including TSL, SSL, JWT, and IPsec. "
   ]
  },
  {
   "cell_type": "code",
   "execution_count": null,
   "id": "89d6d858",
   "metadata": {},
   "outputs": [],
   "source": []
  }
 ],
 "metadata": {
  "kernelspec": {
   "display_name": "Python 3 (ipykernel)",
   "language": "python",
   "name": "python3"
  },
  "language_info": {
   "codemirror_mode": {
    "name": "ipython",
    "version": 3
   },
   "file_extension": ".py",
   "mimetype": "text/x-python",
   "name": "python",
   "nbconvert_exporter": "python",
   "pygments_lexer": "ipython3",
   "version": "3.10.5"
  }
 },
 "nbformat": 4,
 "nbformat_minor": 5
}
