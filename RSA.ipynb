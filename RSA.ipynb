{
 "cells": [
  {
   "cell_type": "markdown",
   "id": "1c7a227c",
   "metadata": {},
   "source": [
    "# RSA Encryption"
   ]
  },
  {
   "cell_type": "markdown",
   "id": "1958d543",
   "metadata": {},
   "source": [
    "RSA was invented by NORAD in the early 1970's but was deemed top secret. A few years later in 1977, Ron **R**ivest, Adi **S**hamir and Leonard **A**dleman independantly invented the exact same process for encryption and called it RSA. RSA is the most used software in the world to date and every internet user has used RSA at some point whether they knew it or not. \n",
    "\n",
    "It shares many mathematical similarities with Diffie-Hellman encryption, but it's conceptually a little different. Instead of thinking about public and private keys, RSA can be thought of as sending an unlocked padlock. The receiver of the message has a key and a padlock. He sends his **unlocked** padlock to the sender who then locks his message with the padlock. Then when it's sent back to him he knows the key for decrpytion.\n",
    "\n",
    "The problem RSA solves compared to Diffie-Hellman is that of key storage. When using Diffie-Hellman every key needs to be saved separately. This can be unwieldy for a large organizaion like a bank with many customers- the bank would need a different key for each customer. The solution to this is RSA!\n",
    "\n",
    "The entire process is based on Euler's theorem: $m^{φ(n)} \\equiv 1 \\mod n$, where $φ(n)$ is the product of two large prime numbers.\n"
   ]
  },
  {
   "cell_type": "markdown",
   "id": "44513b86",
   "metadata": {},
   "source": [
    "# RSA Encryption Process\n",
    "\n",
    "RSA encryption is a widely-used public key cryptosystem for secure data transmission. It involves mathematical operations based on prime numbers. Below is a detailed description of how RSA encryption works:\n",
    "\n",
    "## Key Generation\n",
    "1. **Select Two Prime Numbers**: Choose two large prime numbers, `p` and `q`.\n",
    "2. **Compute the Modulus `n`**: Calculate `n = p * q`. The value of `n` is used as the modulus for both the public and private keys.\n",
    "3. **Calculate the Totient (phi $φ$)**: Compute Euler's totient function, `φ(n) = (p-1) * (q-1)`.\n",
    "4. **Choose the Public Exponent `e`**: Select an integer `e` such that `1 < e < φ(n)` and `e` is coprime with `φ(n)`. Often, `e = 65537`.\n",
    "5. **Determine the Private Exponent `d`**: Calculate `d` as the modular multiplicative inverse of `e` modulo `φ(n)`.\n",
    "\n",
    "## Encryption Process\n",
    "1. **Public Key**: The public key consists of the modulus `n` and the public exponent `e`.\n",
    "2. **Encrypting a Message**: Convert the message into an integer `m` (e.g., via ASCII). Then, compute the ciphertext `c` using $c ≡ m^e (mod n)$.\n",
    "\n",
    "## Decryption Process\n",
    "1. **Private Key**: The private key is made of the modulus `n` and the private exponent `d`.\n",
    "2. **Decrypting a Message**: Decrypt the message by computing $m ≡ c^{d} (mod n)$ using the private key.\n",
    "\n",
    "## Security\n",
    "- RSA's security relies on the difficulty of factoring the product of two large prime numbers.\n",
    "- The security improves with larger key sizes but at the cost of slower encryption and decryption.\n",
    "\n",
    "## Practical Considerations\n",
    "- RSA is often used to encrypt a symmetric key, which is then used for data encryption.\n",
    "- Implementations must consider security aspects like padding schemes (e.g., OAEP) to prevent attacks.\n"
   ]
  },
  {
   "cell_type": "markdown",
   "id": "5bb9adcf",
   "metadata": {},
   "source": [
    "# Helper Functions"
   ]
  },
  {
   "cell_type": "code",
   "execution_count": 199,
   "id": "b377505d",
   "metadata": {},
   "outputs": [],
   "source": [
    "# Finds factors and determines if prime.\n",
    "\n",
    "def factors(number):\n",
    "    number = int(number)\n",
    "    factors = set()\n",
    "\n",
    "    # Check for divisibility by 2 first to handle even numbers quickly\n",
    "    if number % 2 == 0:\n",
    "        factors.update({2, number // 2})\n",
    "\n",
    "    # Check for odd divisors only, up to the square root of the number\n",
    "    for i in range(3, int(number**0.5) + 1, 2):\n",
    "        if number % i == 0:\n",
    "            factors.update({i, number // i})\n",
    "\n",
    "    # Add 1 and the number itself to the factors\n",
    "    factors.update({1, number})\n",
    "\n",
    "    # A prime number has exactly two factors: 1 and itself\n",
    "    return {'factors': factors, 'is_prime': len(factors) == 2}\n",
    "\n",
    "    \n",
    "    \n",
    "# Determines greatest common divisor of 2 numbers\n",
    "\n",
    "def gcd(a, b):\n",
    "    while b:\n",
    "        a, b = b, a % b\n",
    "    return a\n",
    "\n",
    "\n",
    "\n",
    "# encode a string into an array of each character's numerical value\n",
    "\n",
    "def encode_string(string):\n",
    "    char_array = []\n",
    "    for char in string:\n",
    "        char_array.append(ord(char))\n",
    "    return char_array\n",
    "\n",
    "\n",
    "\n",
    "# decode an array of numerical values to their corresponding character\n",
    "\n",
    "def decode_string(arr):\n",
    "    decoded_arr = []\n",
    "    for i in arr:\n",
    "        decoded_arr.append(chr(i))\n",
    "    return \"\".join(decoded_arr)\n",
    "\n",
    "\n",
    "\n",
    "# Calculate if numbers are co-prime (they have no common factors except 1)\n",
    "\n",
    "def are_coprime(number1, number2):\n",
    "    number1_factors = factors(number1)['factors']\n",
    "    number2_factors = factors(number2)['factors']\n",
    "    \n",
    "    common_factors = number1_factors.intersection(number2_factors)\n",
    "    \n",
    "    # if the intersection of common factors is only 1 return True\n",
    "    return common_factors == {1}\n",
    "\n"
   ]
  },
  {
   "cell_type": "markdown",
   "id": "12faf3d5",
   "metadata": {},
   "source": [
    "# Encryption Functions\n",
    "\n",
    "## Selecting the public key\n",
    "\n",
    "$e$ should be an integer that is not only greater than 1 but also less than $φ(n)$, where $n = pq$ (the product of two distinct prime numbers $p$ and $q$).\n",
    "\n",
    "$e$ and $φ(n)$ should be coprime, meaning they should have no common factors other than 1. This ensures that $e$ has a multiplicative inverse $mod φ(n)$.\n",
    "\n",
    "The private exponent `d` is the modular multiplicative inverse of `e modulo ϕ(n)`. \n",
    "This means `d` is the number that satisfies the equation \n",
    "$d × e ≡ 1 \\ modϕ(n)$."
   ]
  },
  {
   "cell_type": "code",
   "execution_count": 200,
   "id": "a1c810fd",
   "metadata": {},
   "outputs": [],
   "source": [
    "# calulate phi (φ) - the totient\n",
    "\n",
    "def calculate_phi(p, q):\n",
    "    if factors(p)['is_prime'] and factors(q)['is_prime']:\n",
    "        return (p - 1) * (q - 1)\n",
    "    \n",
    "    raise ValueError('Not prime numbers')\n",
    "\n",
    "\n",
    "\n",
    "# Calculate e - the public exponent\n",
    "\n",
    "def find_suitable_e(totient):\n",
    "    # Start with 65537 - A common value for `e` in RSA\n",
    "    e = 65537\n",
    "\n",
    "    # Check if e is less than totient and coprime with the totient\n",
    "    # If not, decrement by 2 (to keep e as an odd number) and check again\n",
    "    while e >= totient or not are_coprime(e, totient):\n",
    "        e -= 2\n",
    "        if e <= 2:\n",
    "            raise ValueError(\"Could not find an appropriate 'e' value.\")\n",
    "\n",
    "    return e\n",
    "\n",
    "\n",
    "# Encrypts each letter of the message with the exponent and modulus\n",
    "def encrypt(message, e, n):\n",
    "    if isinstance(message, list):\n",
    "        encrypted_list = []\n",
    "        for i in message:\n",
    "            encrypted_list.append(pow(i, e, n))\n",
    "        return encrypted_list\n",
    "    else:\n",
    "        return []\n",
    "    \n",
    "    \n",
    "    \n",
    "# Decrypts each letter of the message given d - the private key - and n - the modulus\n",
    "\n",
    "def decrypt(message, d, n):\n",
    "    decrypted = []\n",
    "    for i in message:\n",
    "        decrypted.append(pow(i, d, n))\n",
    "        \n",
    "    return decrypted\n",
    "\n",
    "    \n",
    "    \n",
    "# Calculate d: the private key\n",
    "def calculate_d(phi_n, e):\n",
    "    return pow(e, -1, phi_n)\n"
   ]
  },
  {
   "cell_type": "markdown",
   "id": "aaedee4f",
   "metadata": {},
   "source": [
    "# Watch RSA in action"
   ]
  },
  {
   "cell_type": "code",
   "execution_count": 201,
   "id": "4f0f31af",
   "metadata": {},
   "outputs": [
    {
     "name": "stdout",
     "output_type": "stream",
     "text": [
      "Pick your first prime: 31\n",
      "Pick your second prime: 29\n",
      "\n",
      "Alice's primes are 31 and 29\n",
      "Alice's n value is 31 x 29 = 899\n",
      "φ(n) = (31 - 1) x (29 - 1) = 840\n",
      "The exponent value is 65537\n",
      "Alice's private decryption key is 593\n"
     ]
    }
   ],
   "source": [
    "# Alice picks 2 prime numbers of similar size to compute `n`\n",
    "\n",
    "while True:\n",
    "    p1 = int(input('Pick your first prime: '))\n",
    "    p2 = int(input('Pick your second prime: '))\n",
    "    \n",
    "    p1_is_prime = factors(p1)['is_prime']\n",
    "    p2_is_prime = factors(p2)['is_prime']\n",
    "    \n",
    "    if p1_is_prime and p2_is_prime:\n",
    "        print(f\"\\nAlice's primes are {p1} and {p2}\")\n",
    "        break\n",
    "    elif not p1_is_prime and not p2_is_prime:\n",
    "        print(f'{p1} and {p2} are both not prime')\n",
    "    elif not p1_is_prime:\n",
    "        print(f'{p1} is not prime.')\n",
    "    elif not p2_is_prime:\n",
    "        print(f'{p2} is not prime.')\n",
    "        \n",
    "        \n",
    "\n",
    "# Calculate n as the product of p1 and p2\n",
    "\n",
    "n = p1 * p2\n",
    "\n",
    "print(f\"Alice's n value is {p1} x {p2} = {n}\")\n",
    "\n",
    "\n",
    "\n",
    "# Calculate the totient - φ(n)\n",
    "\n",
    "totient = calculate_phi(p1, p2)\n",
    "\n",
    "print(f'φ(n) = ({p1} - 1) x ({p2} - 1) = {totient}')\n",
    "\n",
    "\n",
    "\n",
    "# Calculate exponent e, such that it is odd and coprime with φ(n)\n",
    "\n",
    "e = exponent(totient)\n",
    "\n",
    "print(f'The exponent value is {e}')\n",
    "\n",
    "\n",
    "\n",
    "# Calculate the private key `d`. Alice keeps this as her secret key.\n",
    "\n",
    "d = calculate_d(totient, e)\n",
    "print(f\"Alice's private decryption key is {d}\")\n"
   ]
  },
  {
   "cell_type": "markdown",
   "id": "7d3b0677",
   "metadata": {},
   "source": [
    "# Alice sends `n` and `e`. Bob uses these numbers to encrypt\n",
    "\n",
    "Alice sends to Bob her values for `n` and `e`. This is like sending an open lock that Bob will use to lock up his message. He does this by calculating $m^{e} mod(n)$. Where `m` is the numerical value of his message."
   ]
  },
  {
   "cell_type": "code",
   "execution_count": 202,
   "id": "512d30d9",
   "metadata": {},
   "outputs": [
    {
     "name": "stdout",
     "output_type": "stream",
     "text": [
      "Type a message to send: howdy\n",
      "Encoded but not encrypted message is:\n",
      "[104, 111, 119, 100, 121]\n",
      "\n",
      "Encoded and encrypted message is:\n",
      " [220, 107, 843, 80, 9]\n"
     ]
    }
   ],
   "source": [
    "# Bob's message to Alice\n",
    "message = input('Type a message to send: ')\n",
    "\n",
    "encoded_message = encode_string(message)\n",
    "print(f'Encoded but not encrypted message is:\\n{encoded_message}\\n')\n",
    "\n",
    "encrypted_message = encrypt(encoded_message, e, n)\n",
    "print(f'Encoded and encrypted message is:\\n {encrypted_message}')\n"
   ]
  },
  {
   "cell_type": "markdown",
   "id": "684dceed",
   "metadata": {},
   "source": [
    "# Send the encrypted message\n",
    "\n",
    "`encrypted_message` can now be sent from Bob to Alice without an evesdropper (Eve) making any sense of the message. In practice this only works when large values of `p` and `q` are used, otherwise computers can still quite easily brute force the encryption."
   ]
  },
  {
   "cell_type": "markdown",
   "id": "c3544dcc",
   "metadata": {},
   "source": [
    "# Alice uses her private key `d` to decrpyt the message\n",
    "\n",
    "Since `d` is the multiplicative inverse of `e` in respsct to `φ(n)`, decrypting the message is easy. Each letter is decrypted with the function $i^{d} mod (n)$, where `i` is the encrypted numerical value of the letter, `d` is our private key, and `n` is the product of our two primes."
   ]
  },
  {
   "cell_type": "code",
   "execution_count": 204,
   "id": "54e50221",
   "metadata": {},
   "outputs": [
    {
     "name": "stdout",
     "output_type": "stream",
     "text": [
      "The decrypted but still encoded message is\n",
      "[104, 111, 119, 100, 121]\n",
      "\n",
      "Notice that the encoded message is the same as it is above\n",
      " [104, 111, 119, 100, 121] = [104, 111, 119, 100, 121]\n",
      "\n",
      "The plain text value is: howdy\n"
     ]
    }
   ],
   "source": [
    "# Alice decrypts the message using `d`\n",
    "\n",
    "decrypted_message = decrypt(encrypted_message, d, n)\n",
    "\n",
    "print(f\"Notice that the decrypted encoded message is the same as it is above\\n{encoded_message} = {decrypted_message}\\n\")\n",
    "\n",
    "\n",
    "decoded_message = decode_string(decrypted_message)\n",
    "print(f\"The plain text value is: {decoded_message}\")\n"
   ]
  },
  {
   "cell_type": "code",
   "execution_count": null,
   "id": "17f68cff",
   "metadata": {},
   "outputs": [],
   "source": []
  }
 ],
 "metadata": {
  "kernelspec": {
   "display_name": "Python 3 (ipykernel)",
   "language": "python",
   "name": "python3"
  },
  "language_info": {
   "codemirror_mode": {
    "name": "ipython",
    "version": 3
   },
   "file_extension": ".py",
   "mimetype": "text/x-python",
   "name": "python",
   "nbconvert_exporter": "python",
   "pygments_lexer": "ipython3",
   "version": "3.10.5"
  }
 },
 "nbformat": 4,
 "nbformat_minor": 5
}
