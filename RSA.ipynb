{
 "cells": [
  {
   "cell_type": "markdown",
   "id": "1c7a227c",
   "metadata": {},
   "source": [
    "# RSA Encryption"
   ]
  },
  {
   "cell_type": "markdown",
   "id": "1958d543",
   "metadata": {},
   "source": [
    "RSA was invented by NORAD in the early 1970's but was deemed top secret. A few years later in 1977, Ron **R**ivest, Adi **S**hamir and Leonard **A**dleman independantly invented the exact same process for encryption and called it RSA.\n",
    "\n",
    "It shares many mathematical similarities with Diffie-Hellman encryption, but it's conceptually a little different. Instead of thinking about public and private keys, RSA can be thought of as sending an unlocked padlock. The receiver of the message has a key and a padlock. He sends his **unlocked** padlock to the sender who then locks his message with the padlock. Then when it's sent back to him he knows the key for decrpytion.\n",
    "\n",
    "The problem RSA solves compared to Diffie-Hellman is that of key storage. When using Diffie-Hellman every key needs to be saved separately. This can be unwieldy for a large organizaion like a bank with many customers- the bank would need a different key for each customer. The solution to this is RSA!"
   ]
  },
  {
   "cell_type": "markdown",
   "id": "c2fb9f40",
   "metadata": {},
   "source": [
    "# RSA Encryption Process\n",
    "\n",
    "RSA encryption is a widely-used public key cryptosystem for secure data transmission. It involves mathematical operations based on prime numbers. Below is a detailed description of how RSA encryption works:\n",
    "\n",
    "## Key Generation\n",
    "1. **Select Two Prime Numbers**: Choose two large prime numbers, `p` and `q`.\n",
    "2. **Compute the Modulus `n`**: Calculate `n = p * q`. The value of `n` is used as the modulus for both the public and private keys.\n",
    "3. **Calculate the Totient (phi $φ$)**: Compute Euler's totient function, `φ(n) = (p-1) * (q-1)`.\n",
    "4. **Choose the Public Exponent `e`**: Select an integer `e` such that `1 < e < φ(n)` and `e` is coprime with `φ(n)`. Often, `e = 65537`.\n",
    "5. **Determine the Private Exponent `d`**: Calculate `d` as the modular multiplicative inverse of `e` modulo `φ(n)`.\n",
    "\n",
    "## Encryption Process\n",
    "1. **Public Key**: The public key consists of the modulus `n` and the public exponent `e`.\n",
    "2. **Encrypting a Message**: Convert the message into an integer `m` (e.g., via ASCII). Then, compute the ciphertext `c` using $c ≡ m^e (mod n)$.\n",
    "\n",
    "## Decryption Process\n",
    "1. **Private Key**: The private key is made of the modulus `n` and the private exponent `d`.\n",
    "2. **Decrypting a Message**: Decrypt the message by computing $m ≡ c^{d} (mod n)$ using the private key.\n",
    "\n",
    "## Security\n",
    "- RSA's security relies on the difficulty of factoring the product of two large prime numbers.\n",
    "- The security improves with larger key sizes but at the cost of slower encryption and decryption.\n",
    "\n",
    "## Practical Considerations\n",
    "- RSA is often used to encrypt a symmetric key, which is then used for data encryption.\n",
    "- Implementations must consider security aspects like padding schemes (e.g., OAEP) to prevent attacks.\n"
   ]
  },
  {
   "cell_type": "markdown",
   "id": "7aba04ad",
   "metadata": {},
   "source": [
    "# Helper Functions"
   ]
  },
  {
   "cell_type": "code",
   "execution_count": null,
   "id": "b377505d",
   "metadata": {},
   "outputs": [],
   "source": [
    "# Finds factors and determines if prime.\n",
    "\n",
    "def factors(number):\n",
    "    factors = set()\n",
    "    for i in range(1, int(number**0.5)+1):\n",
    "        if (number/i)%1 == 0:\n",
    "            factors.add(i)\n",
    "            factors.add(number // i)  # Add the corresponding divisor\n",
    "\n",
    "            \n",
    "    if len(factors) > 2:\n",
    "        return {'factors': factors, 'is_prime': False}\n",
    "    else:\n",
    "        return {'factors': factors, 'is_prime': True}\n",
    "    "
   ]
  },
  {
   "cell_type": "code",
   "execution_count": null,
   "id": "858699b7",
   "metadata": {},
   "outputs": [],
   "source": [
    "# Determines greatest common divisor of 2 numbers\n",
    "\n",
    "def gcd(a, b):\n",
    "    while b:\n",
    "        a, b = b, a % b\n",
    "    return a"
   ]
  },
  {
   "cell_type": "code",
   "execution_count": null,
   "id": "8d29e39d",
   "metadata": {},
   "outputs": [],
   "source": [
    "# returns array of generators of a prime number\n",
    "\n",
    "def calculate_generator(prime):\n",
    "    if factors(prime)['is_prime'] == False:\n",
    "        return False\n",
    "\n",
    "    generators = []\n",
    "  \n",
    "    for i in range(2, prime):\n",
    "        results = []\n",
    "        for j in range(2, prime):\n",
    "            results.append(pow(i, j, prime))\n",
    "\n",
    "        if len(set(results)) == len(results):\n",
    "            generators.append(i)\n",
    "\n",
    "    return generators\n"
   ]
  },
  {
   "cell_type": "code",
   "execution_count": null,
   "id": "c1fd1c99",
   "metadata": {},
   "outputs": [],
   "source": [
    "# calulate phi - the totient\n",
    "\n",
    "def calculate_phi(p, q):\n",
    "    return (p - 1) * (q - 1)"
   ]
  },
  {
   "cell_type": "markdown",
   "id": "4525b0b3",
   "metadata": {},
   "source": [
    "# Selecting the public key\n",
    "\n",
    "$e$ should be an integer that is not only greater than 1 but also less than $φ(n)$, where $n = pq$ (the product of two distinct prime numbers $p$ and $q$).\n",
    "\n",
    "$e$ and $φ(n)$ should be coprime, meaning they should have no common factors other than 1. This ensures that $e$ has a multiplicative inverse $modulo φ(n)$."
   ]
  },
  {
   "cell_type": "code",
   "execution_count": null,
   "id": "a1c810fd",
   "metadata": {},
   "outputs": [],
   "source": [
    "# Calculate if numbers are co-prime\n",
    "\n",
    "def are_coprime(number1, number2):\n",
    "    number1_factors = factors(number1)['factors']\n",
    "    number2_factors = factors(number2)['factors']\n",
    "    \n",
    "    common_factors = number1_factors.intersection(number2_factors)\n",
    "    \n",
    "    # if the intersection of common factors is only 1 return True\n",
    "    return common_factors == {1}\n"
   ]
  },
  {
   "cell_type": "code",
   "execution_count": null,
   "id": "0d5aaa54",
   "metadata": {},
   "outputs": [],
   "source": [
    "# Calculate e - the public exponent\n",
    "\n",
    "def exponent(totient):\n",
    "    # Common practice is to start with 65537 (a prime number)\n",
    "    e = 65537\n",
    "    \n",
    "    # Check if e is coprime with the totient\n",
    "    # If not, decrement and check again\n",
    "    while e > 2:\n",
    "        if are_coprime(e, totient):\n",
    "            return e\n",
    "        e -= 2  # e must be an odd number\n",
    "\n",
    "    raise ValueError(\"Could not find an appropriate 'e' value.\")\n"
   ]
  },
  {
   "cell_type": "markdown",
   "id": "b235c53d",
   "metadata": {},
   "source": [
    "# Calculate d - The private exponent\n",
    "\n",
    "The private exponent `d` is the modular multiplicative inverse of `e modulo ϕ(n)`. \n",
    "This means `d` is the number that satisfies the equation \n",
    "$d × e ≡ 1 \\ modϕ(n)$.\n",
    "\n",
    "\n",
    "#def private_exponent():\n",
    "    "
   ]
  },
  {
   "cell_type": "code",
   "execution_count": null,
   "id": "83b99168",
   "metadata": {},
   "outputs": [],
   "source": []
  }
 ],
 "metadata": {
  "kernelspec": {
   "display_name": "Python 3 (ipykernel)",
   "language": "python",
   "name": "python3"
  },
  "language_info": {
   "codemirror_mode": {
    "name": "ipython",
    "version": 3
   },
   "file_extension": ".py",
   "mimetype": "text/x-python",
   "name": "python",
   "nbconvert_exporter": "python",
   "pygments_lexer": "ipython3",
   "version": "3.10.5"
  }
 },
 "nbformat": 4,
 "nbformat_minor": 5
}
