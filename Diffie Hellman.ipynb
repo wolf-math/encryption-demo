{
 "cells": [
  {
   "cell_type": "markdown",
   "id": "a53275b7",
   "metadata": {},
   "source": [
    "# Diffie - Hellman Encryption \n",
    "\n",
    "Hopefully this Jupyter Notebook will clarify how Diffie - Hellman encryption is done.\n",
    "First let's write our helper functions"
   ]
  },
  {
   "cell_type": "code",
   "execution_count": null,
   "id": "7634ba20",
   "metadata": {},
   "outputs": [],
   "source": [
    "# checks if number is prime or not\n",
    "\n",
    "def is_prime(number):\n",
    "    factors = []\n",
    "    for i in range(2, int(number**0.5)+1):\n",
    "        if (number/i)%1 == 0:\n",
    "            factors.append(i)\n",
    "            \n",
    "    if len(factors) > 0:\n",
    "        return False\n",
    "    else:\n",
    "        return True"
   ]
  },
  {
   "cell_type": "code",
   "execution_count": null,
   "id": "9fc7a352",
   "metadata": {},
   "outputs": [],
   "source": [
    "# returns array of generators of a prime number\n",
    "\n",
    "def calculate_generator(prime):\n",
    "    if is_prime(prime) == False:\n",
    "        return False\n",
    "\n",
    "    generators = []\n",
    "  \n",
    "    for i in range(2, prime):\n",
    "        results = []\n",
    "        for j in range(2, prime):\n",
    "            results.append(pow(i, j, prime))\n",
    "\n",
    "        if len(set(results)) == len(results):\n",
    "            generators.append(i)\n",
    "\n",
    "    return generators"
   ]
  },
  {
   "cell_type": "code",
   "execution_count": null,
   "id": "f80bcf74",
   "metadata": {},
   "outputs": [],
   "source": [
    "# creates public key\n",
    "\n",
    "def create_pub_key(generator, private_key, prime):\n",
    "    # pow takes (base, exp, mod=None) \n",
    "    # is equivalent to base**exp % mod\n",
    "    return pow(generator, private_key, prime)"
   ]
  },
  {
   "cell_type": "code",
   "execution_count": null,
   "id": "798f3601",
   "metadata": {},
   "outputs": [],
   "source": [
    "# encode a string into an array of each character's numerical value\n",
    "\n",
    "def encode_string(string):\n",
    "    char_array = []\n",
    "    for char in string:\n",
    "        char_array.append(ord(char))\n",
    "    return char_array"
   ]
  },
  {
   "cell_type": "code",
   "execution_count": null,
   "id": "036d48e0",
   "metadata": {},
   "outputs": [],
   "source": [
    "# decode an array of numerical values to their corresponding character\n",
    "\n",
    "def decode_string(arr):\n",
    "    decoded_arr = []\n",
    "    for i in arr:\n",
    "        decoded_arr.append(chr(i))\n",
    "    return \"\".join(decoded_arr)"
   ]
  },
  {
   "cell_type": "code",
   "execution_count": null,
   "id": "c41bcf01",
   "metadata": {},
   "outputs": [],
   "source": [
    "# encrypts message\n",
    "\n",
    "def encrypt_message(super_key, message_array, prime):\n",
    "    encrypted_array = []\n",
    "    for num in message_array:\n",
    "        encrypted_array.append(num + super_key % prime)\n",
    "    return encrypted_array"
   ]
  },
  {
   "cell_type": "code",
   "execution_count": null,
   "id": "d6cbadbc",
   "metadata": {},
   "outputs": [],
   "source": [
    "# decrypts message\n",
    "\n",
    "def decrypt_message(super_key, encrypted_array, prime):\n",
    "    decrypted_message = []\n",
    "    for num in encrypted_array:\n",
    "        decrypted_message.append(num - super_key % prime)\n",
    "    return decrypted_message"
   ]
  },
  {
   "cell_type": "markdown",
   "id": "dc93d9df",
   "metadata": {},
   "source": [
    "## Let's get 2 volunteers"
   ]
  },
  {
   "cell_type": "code",
   "execution_count": null,
   "id": "022c601f",
   "metadata": {},
   "outputs": [],
   "source": [
    "p1 = input(\"Person 1's name: \")\n",
    "p2 = input(\"Person 2's name: \")"
   ]
  },
  {
   "cell_type": "markdown",
   "id": "018ac7db",
   "metadata": {},
   "source": [
    "## Choose Numbers\n",
    "\n",
    "We need to do is choose a **publicly known prime number**, and a **generator** of that prime. In the video the prime was 17 and the generator was 3."
   ]
  },
  {
   "cell_type": "code",
   "execution_count": null,
   "id": "88ab76c0",
   "metadata": {},
   "outputs": [],
   "source": [
    "prime = int(input(\"choose a shared prime number: \"))\n",
    "\n",
    "while is_prime(prime) == False:\n",
    "    prime = int(input(\"that's not prime, try again: \"))\n",
    "\n",
    "gen = int(input(f\"select a shared generator from the list {calculate_generator(prime)}: \"))"
   ]
  },
  {
   "cell_type": "markdown",
   "id": "85429d3a",
   "metadata": {},
   "source": [
    "p1's (sorry I can't print a variable here) will **choose a private key** then the **public key will be auto generated**\n",
    "\n",
    "$public key = g^{private key} (mod p)$"
   ]
  },
  {
   "cell_type": "code",
   "execution_count": null,
   "id": "71de442e",
   "metadata": {},
   "outputs": [],
   "source": [
    "p1private_key = int(input(f\"{p1} select a private key: \"))\n",
    "p1public_key = create_pub_key(gen, p1private_key, prime)\n",
    "print(f\"{p1}'s public key: {p1public_key}\")"
   ]
  },
  {
   "cell_type": "markdown",
   "id": "7c2351ea",
   "metadata": {},
   "source": [
    "p1's (sorry I can't print a variable here) will **choose a private key** then the **public key will be auto generated** \n",
    "\n",
    "$public key = g^{private key} (mod p)$"
   ]
  },
  {
   "cell_type": "code",
   "execution_count": null,
   "id": "2f91582e",
   "metadata": {},
   "outputs": [],
   "source": [
    "p2private_key = int(input(f\"{p2} select a private key: \"))\n",
    "p2public_key = create_pub_key(gen, p2private_key, prime)\n",
    "print(f\"{p2}'s public key: {p2public_key}\")"
   ]
  },
  {
   "cell_type": "markdown",
   "id": "3d4d3563",
   "metadata": {},
   "source": [
    "## Review so far"
   ]
  },
  {
   "cell_type": "markdown",
   "id": "99591f65",
   "metadata": {},
   "source": [
    "### Numbers that are known to everyone"
   ]
  },
  {
   "cell_type": "code",
   "execution_count": null,
   "id": "5350d7b8",
   "metadata": {},
   "outputs": [],
   "source": [
    "print(f\"prime number {prime}\")\n",
    "print(f\"generator of {prime}: {gen}\")\n",
    "print(f\"{p1}'s public key {p1public_key}\")\n",
    "print(f\"{p2}'s public key {p2public_key}\")"
   ]
  },
  {
   "cell_type": "markdown",
   "id": "1eff9400",
   "metadata": {},
   "source": [
    "### Numbers only known to their owners"
   ]
  },
  {
   "cell_type": "code",
   "execution_count": null,
   "id": "6af409ed",
   "metadata": {},
   "outputs": [],
   "source": [
    "print(f\"{p1}'s private key {p1private_key}\")\n",
    "print(f\"{p2}'s private key {p2private_key}\")"
   ]
  },
  {
   "cell_type": "markdown",
   "id": "9e8977f0",
   "metadata": {},
   "source": [
    "## The Super Key\n",
    "\n",
    "The super key is the super-secret key that both parties calculate on their own but with different numbers. They should be equal otherwise this won't work. In the video the super key was 10"
   ]
  },
  {
   "cell_type": "code",
   "execution_count": null,
   "id": "e8edfc1b",
   "metadata": {},
   "outputs": [],
   "source": [
    "super_key = pow(p2public_key, p1private_key, prime)\n",
    "super_key2 = pow(p1public_key, p2private_key, prime)\n",
    "\n",
    "if super_key != super_key2:\n",
    "    print(\"Oops, something went wrong...\")\n",
    "    \n",
    "print(f\"super key: {super_key}\")"
   ]
  },
  {
   "cell_type": "markdown",
   "id": "ee6cbfe5",
   "metadata": {},
   "source": [
    "## Sending a message"
   ]
  },
  {
   "cell_type": "markdown",
   "id": "6bd5e43f",
   "metadata": {},
   "source": [
    "### Step 1: encode the message into the computer numeric values"
   ]
  },
  {
   "cell_type": "code",
   "execution_count": null,
   "id": "1e70ef7a",
   "metadata": {},
   "outputs": [],
   "source": [
    "message = input(f\"{p1}, what message do you want to send to {p2}? \")\n",
    "message_array = encode_string(message)\n",
    "print(message_array)"
   ]
  },
  {
   "cell_type": "markdown",
   "id": "df2d6edf",
   "metadata": {},
   "source": [
    "### Step 2: encrypt message"
   ]
  },
  {
   "cell_type": "code",
   "execution_count": null,
   "id": "bff511d3",
   "metadata": {},
   "outputs": [],
   "source": [
    "encrypted = encrypt_message(super_key, message_array, prime)\n",
    "print(encrypted)"
   ]
  },
  {
   "cell_type": "markdown",
   "id": "7577451d",
   "metadata": {},
   "source": [
    "### Step 3: decrypt message"
   ]
  },
  {
   "cell_type": "code",
   "execution_count": null,
   "id": "12ba4d5b",
   "metadata": {},
   "outputs": [],
   "source": [
    "decrypted = decrypt_message(super_key2, encrypted, prime)\n",
    "print(decode_string(decrypted))"
   ]
  },
  {
   "cell_type": "code",
   "execution_count": null,
   "id": "fb5da30c",
   "metadata": {},
   "outputs": [],
   "source": []
  }
 ],
 "metadata": {
  "kernelspec": {
   "display_name": "Python 3 (ipykernel)",
   "language": "python",
   "name": "python3"
  },
  "language_info": {
   "codemirror_mode": {
    "name": "ipython",
    "version": 3
   },
   "file_extension": ".py",
   "mimetype": "text/x-python",
   "name": "python",
   "nbconvert_exporter": "python",
   "pygments_lexer": "ipython3",
   "version": "3.10.5"
  }
 },
 "nbformat": 4,
 "nbformat_minor": 5
}
