{
 "cells": [
  {
   "cell_type": "markdown",
   "id": "86819e47",
   "metadata": {},
   "source": [
    "# Hashing\n",
    "\n",
    "Hashing is a one way function that's used in encryption sceneios where the goal is secure storage, data integrity, and verification. The original use that led to the creation of hashing functions was digital signatures. These one way functions are unlike RSA and Diffie-Hellman which are a 2-way functions for secure communication- not to mention they have completely different use cases. Hashing is used for encrypting data, password storage, and data verification.\n",
    "\n",
    "Any website you've logged into with a password _should be_ storing your password as a hash, meaning the maintainers of said website couldn't figure out your password even if they wanted to. It's encrypted so the original cannot be extrapolated from the hash. \n",
    "\n",
    "Hashing can also work to verify data. If you've ever downloaded a Linux `.iso` and the instructions tell you to run `sha256sum linux_mint.iso`, the output will be a hash and it should match what the Linux Mint website says, otherwise someone may have tampered with it or it could be currupt. \n",
    "\n",
    "## How does it work (conceptually)?\n",
    "\n",
    "There are many different hashing algorithms that can be used, but most of them follow the same basic process. It is a mathematical function that takes a particular input (a password for instance) and converts it through some mathematical means into a digest, also sometimes referred to as tags or just hashes. The input can be as large as the user wants, however, the output will always be a fixed length. For instance `sah256sum` always procudes a hash that is 256 bits. The function is also a deterministic function where the same input will always result in the same output. It's important the mathematical function is both computationally efficient (it's fast) and _collision efficient_. Collision efficient means that it's extremely unlikely that two different inputs will result in the same output. Lastly the hash function should also _hide information_, which means that it's extremely difficult to devulge the original content in any way. Part of this includes that the output should look random.\n",
    "\n",
    "1. The input is padded into chunks. All chunks are the same size. \n",
    "2. There are manby \n",
    "\n",
    " "
   ]
  },
  {
   "cell_type": "markdown",
   "id": "129854d6",
   "metadata": {},
   "source": []
  },
  {
   "cell_type": "code",
   "execution_count": null,
   "id": "c38e43c7-90cc-44cf-9987-7478f7330b87",
   "metadata": {},
   "outputs": [],
   "source": []
  }
 ],
 "metadata": {
  "kernelspec": {
   "display_name": "Python 3 (ipykernel)",
   "language": "python",
   "name": "python3"
  },
  "language_info": {
   "codemirror_mode": {
    "name": "ipython",
    "version": 3
   },
   "file_extension": ".py",
   "mimetype": "text/x-python",
   "name": "python",
   "nbconvert_exporter": "python",
   "pygments_lexer": "ipython3",
   "version": "3.11.2"
  }
 },
 "nbformat": 4,
 "nbformat_minor": 5
}
