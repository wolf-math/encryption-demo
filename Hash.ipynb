{
 "cells": [
  {
   "cell_type": "markdown",
   "id": "86819e47",
   "metadata": {},
   "source": [
    "# HMAC (Hash-Based Message Authentication Code)\n",
    "\n",
    "HMAC is a symmetrical encryption method for message authentication using has functions. Several protocols use HMAC including TSL, SSL, JWT, and IPsec. Since the encryption method is symmetrical, this means that there must be a shared key between the sender and receiver. This shared key is used to create the HMAC. \n",
    "\n"
   ]
  },
  {
   "cell_type": "code",
   "execution_count": null,
   "id": "f206f7c5",
   "metadata": {},
   "outputs": [],
   "source": []
  }
 ],
 "metadata": {
  "kernelspec": {
   "display_name": "Python 3 (ipykernel)",
   "language": "python",
   "name": "python3"
  },
  "language_info": {
   "codemirror_mode": {
    "name": "ipython",
    "version": 3
   },
   "file_extension": ".py",
   "mimetype": "text/x-python",
   "name": "python",
   "nbconvert_exporter": "python",
   "pygments_lexer": "ipython3",
   "version": "3.10.5"
  }
 },
 "nbformat": 4,
 "nbformat_minor": 5
}
