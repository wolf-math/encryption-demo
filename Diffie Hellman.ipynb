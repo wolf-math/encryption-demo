{
 "cells": [
  {
   "cell_type": "markdown",
   "id": "38b30a18",
   "metadata": {},
   "source": [
    "# Diffie - Hellman Key Exchange \n",
    "\n",
    "\n",
    "## History\n",
    "\n",
    "The most advanced method of encryption during WWII (the enigma machine) was broken by a guy who built a computer (Alan Turing). \n",
    "\n",
    "In the decades following WWII the US was in a cold war with the USSR. Computers were being built in order to gain intelligence and monitor what the Soviets were doing. NORAD (part of the US and Canada's military complex) created the first networked computer system and they wanted secure communication so that no bad actors could eavesdrop on secret military communication.\n",
    "\n",
    "## Diffie Hellman\n",
    "\n",
    "In 1976 Whitfield Diffie and Martin Hellman developed a method of key exchange where two parties could share **public keys** for encryption and decryption but nobody else would be able to see any messages because each party would also have a **private keys**\n",
    "\n",
    "The Diffie-Hellman key exchange was the first ever devised _asymmetric key exchange_. This means that a secret message can be encrypred and sent from one party to another without the need to share the keys.\n",
    "\n",
    "**IMPORTANT NOTE:** The basics of this methodology are still used today in many forms of communication, including SSH. Never **EVER** share your private key with anybody!\n",
    "\n",
    "## How Does It Work Conceptually?\n",
    "\n",
    "Up until Diffie-Hellman all key exchanges were done with a _symmetric_ key exchange. This means that the sender and receiver had to share an agreed upon key before they can send messages to one another. But what if the 2 parties have never met? Or what if they're far away?\n",
    "\n",
    "The solution is a public key exchange. This is called _asymmetric_ key exchange because each party has a different key. But how?\n",
    "\n",
    "Each party has a private key and a public key. The private key is never shared. Both parties agree (publicly) on a prime modulus and a generator to the modulus. The prime modulus is just a large prime number and the generator is a number that when raised to the power off all numbers up to the prime number `p` `(1, 2, 3, ... , p-1 , p)`, the solution set will include all numbers up to `p` `(1, 2, 3, ... , p-1 , p)`. This allows for the same character to be encrypted to different values. \n",
    "\n",
    "When the public keys are exchanged the individuals can calculate their private keys raised to the power of their partner's public key and everything unravels to decrypt itself!\n",
    "\n",
    "## How Does the Math Work?\n",
    "\n",
    "The Diffie-Hellman key exchange algorithm is based on the difficulty of the discrete logarithm problem in modular arithmetic. The basic steps of the protocol involve:\n",
    "\n",
    "1. Two parties agree on a large prime number `p` and a base `g`, where `g` is a primitive root modulo `p`. \n",
    "\n",
    "2. Each party gets a private key (a secret number), let's say `a` and `b`, and  computes their respective public keys as $A = g^{a} mod(p)$ and $B = g^{b} mod(p)$.\n",
    "\n",
    "3. They then exchange their public keys.\n",
    "\n",
    "4. Each party raises the received public key to the power of their own private key to compute the shared secret: $s = B^{a} mod(p)$ and $s = A^{b} mod(p)$.\n",
    "\n",
    "5. Due to the properties of modular exponentiation, both parties arrive at the same shared secret.\n",
    "\n",
    "It's important to note that in modern applications, all of the above happens automatically with software. There is no need to do any computation when sending a WhatsApp message!"
   ]
  },
  {
   "cell_type": "markdown",
   "id": "1b937d5e",
   "metadata": {},
   "source": [
    "# Helper Functions\n",
    "\n",
    "These are not the most performant functions but that's not their intention. They are here so that the user can gain an understanding of how the encryption takes place."
   ]
  },
  {
   "cell_type": "markdown",
   "id": "8a209176",
   "metadata": {},
   "source": [
    "First we need a function that tells us if a number is prime or not. This is because our modulus must be a prime number"
   ]
  },
  {
   "cell_type": "code",
   "execution_count": null,
   "id": "7634ba20",
   "metadata": {},
   "outputs": [],
   "source": [
    "# checks if number is prime or not\n",
    "\n",
    "def is_prime(number):\n",
    "    factors = []\n",
    "    for i in range(2, int(number**0.5)+1):\n",
    "        if (number/i)%1 == 0:\n",
    "            factors.append(i)\n",
    "            \n",
    "    if len(factors) > 0:\n",
    "        return False\n",
    "    else:\n",
    "        return True"
   ]
  },
  {
   "cell_type": "markdown",
   "id": "44643423",
   "metadata": {},
   "source": [
    "Given a prime number $p$, the following function returns an array of all numbers that are **primitive roots** or **generators** of $p$. A generator `a` is a primitive root `modulo p`, which means that for every number `n` from `1` to `p-1`, there is some power `k` such that $a^{k} ≡ n \\ mod p$.\n",
    "\n"
   ]
  },
  {
   "cell_type": "code",
   "execution_count": null,
   "id": "9fc7a352",
   "metadata": {},
   "outputs": [],
   "source": [
    "# returns array of generators of a prime number\n",
    "\n",
    "def calculate_generator(prime):\n",
    "    if is_prime(prime) == False:\n",
    "        return False\n",
    "\n",
    "    generators = []\n",
    "  \n",
    "    for i in range(2, prime):\n",
    "        results = []\n",
    "        for j in range(2, prime):\n",
    "            results.append(pow(i, j, prime))\n",
    "\n",
    "        if len(set(results)) == len(results):\n",
    "            generators.append(i)\n",
    "\n",
    "    return generators"
   ]
  },
  {
   "cell_type": "markdown",
   "id": "bcf5eeed",
   "metadata": {},
   "source": [
    "Given a private key (usually a random number), the public key is determined by the following arithmetic function. \n",
    "$$public \\_ key = generator^{private \\_ key} (mod\\ p)$$"
   ]
  },
  {
   "cell_type": "code",
   "execution_count": null,
   "id": "f80bcf74",
   "metadata": {},
   "outputs": [],
   "source": [
    "# creates public key\n",
    "\n",
    "def create_pub_key(generator, private_key, prime):\n",
    "    # pow takes (base, exp, mod=None) \n",
    "    # is equivalent to base**exp % mod\n",
    "    return pow(generator, private_key, prime)"
   ]
  },
  {
   "cell_type": "markdown",
   "id": "4101f853",
   "metadata": {},
   "source": [
    "_Encoding_ is **not** _encryption_. It simply converts the letter to its computer numerical value. Any computer can make this conversion, so it's not scrambled in any way. This function takes a string as an argument and returns an array of the encoded characters."
   ]
  },
  {
   "cell_type": "code",
   "execution_count": null,
   "id": "798f3601",
   "metadata": {},
   "outputs": [],
   "source": [
    "# encode a string into an array of each character's numerical value\n",
    "\n",
    "def encode_string(string):\n",
    "    char_array = []\n",
    "    for char in string:\n",
    "        char_array.append(ord(char))\n",
    "    return char_array\n",
    "\n",
    "\n",
    "# decode an array of numerical values to their corresponding character\n",
    "\n",
    "def decode_string(arr):\n",
    "    decoded_arr = []\n",
    "    for i in arr:\n",
    "        decoded_arr.append(chr(i))\n",
    "    return \"\".join(decoded_arr)\n"
   ]
  },
  {
   "cell_type": "markdown",
   "id": "85f8b951",
   "metadata": {},
   "source": [
    "Given a encoded array, a shared \"super key\", and a prime, we can encrypt the message. This is not technically part of the Diffie-Hellman process. We use the following mathematical function to encrypt each letter in the array, though others may be used.\n",
    "$$num + super \\_ key (mod\\ p)$$"
   ]
  },
  {
   "cell_type": "code",
   "execution_count": null,
   "id": "c41bcf01",
   "metadata": {},
   "outputs": [],
   "source": [
    "# encrypts message\n",
    " \n",
    "def encrypt_message(super_key, message_array, prime):\n",
    "    encrypted_array = []\n",
    "    for num in message_array:\n",
    "        encrypted_array.append(num + super_key % prime)\n",
    "    return encrypted_array"
   ]
  },
  {
   "cell_type": "markdown",
   "id": "514b34c1",
   "metadata": {},
   "source": [
    "Decrypting the message is the inverse function:\n",
    "$$num - super \\_ key (mod\\ p)$$"
   ]
  },
  {
   "cell_type": "code",
   "execution_count": null,
   "id": "d6cbadbc",
   "metadata": {},
   "outputs": [],
   "source": [
    "# decrypts message\n",
    "\n",
    "def decrypt_message(super_key, encrypted_array, prime):\n",
    "    decrypted_message = []\n",
    "    for num in encrypted_array:\n",
    "        decrypted_message.append(num - super_key % prime)\n",
    "    return decrypted_message"
   ]
  },
  {
   "cell_type": "markdown",
   "id": "83e948b8",
   "metadata": {},
   "source": [
    "# Implementing Diffie-Hellman\n",
    "Now that we have all of our helper functions we can implement Diffie-Hellman. Obviously, this would be done from two different machines if it was sent over the internet (i.e. SSH)."
   ]
  },
  {
   "cell_type": "markdown",
   "id": "dc93d9df",
   "metadata": {},
   "source": [
    "## Let's get 2 volunteers"
   ]
  },
  {
   "cell_type": "code",
   "execution_count": null,
   "id": "022c601f",
   "metadata": {},
   "outputs": [],
   "source": [
    "p1 = input(\"Person 1's name: \")\n",
    "p2 = input(\"Person 2's name: \")"
   ]
  },
  {
   "cell_type": "markdown",
   "id": "018ac7db",
   "metadata": {},
   "source": [
    "## Choose Numbers\n",
    "\n",
    "We need to do is choose a **publicly known prime number**, and a **generator** of that prime. In the video the prime was 17 and the generator was 3."
   ]
  },
  {
   "cell_type": "code",
   "execution_count": null,
   "id": "88ab76c0",
   "metadata": {},
   "outputs": [],
   "source": [
    "prime = int(input(\"choose a shared prime number: \"))\n",
    "\n",
    "while is_prime(prime) == False:\n",
    "    prime = int(input(\"that's not prime, try again: \"))\n",
    "\n",
    "gen = int(input(f\"select a shared generator from the list {calculate_generator(prime)}: \"))"
   ]
  },
  {
   "cell_type": "markdown",
   "id": "85429d3a",
   "metadata": {},
   "source": [
    "Choose a **private key** then autogenerate the **public key**\n",
    "$$public \\_ key = g^{private \\_ key} (mod\\ p)$$"
   ]
  },
  {
   "cell_type": "code",
   "execution_count": null,
   "id": "71de442e",
   "metadata": {},
   "outputs": [],
   "source": [
    "p1private_key = int(input(f\"{p1} select a private key: \"))\n",
    "p1public_key = create_pub_key(gen, p1private_key, prime)\n",
    "print(f\"{p1}'s public key: {p1public_key}\")\n",
    "\n",
    "p2private_key = int(input(f\"{p2} select a private key: \"))\n",
    "p2public_key = create_pub_key(gen, p2private_key, prime)\n",
    "print(f\"{p2}'s public key: {p2public_key}\")"
   ]
  },
  {
   "cell_type": "markdown",
   "id": "3d4d3563",
   "metadata": {},
   "source": [
    "## Review so far:"
   ]
  },
  {
   "cell_type": "markdown",
   "id": "99591f65",
   "metadata": {},
   "source": [
    "### Numbers that are known to everyone"
   ]
  },
  {
   "cell_type": "code",
   "execution_count": null,
   "id": "5350d7b8",
   "metadata": {},
   "outputs": [],
   "source": [
    "print(f\"prime number {prime}\")\n",
    "print(f\"generator of {prime}: {gen}\")\n",
    "print(f\"{p1}'s public key {p1public_key}\")\n",
    "print(f\"{p2}'s public key {p2public_key}\")"
   ]
  },
  {
   "cell_type": "markdown",
   "id": "1eff9400",
   "metadata": {},
   "source": [
    "### Numbers only known to their owners"
   ]
  },
  {
   "cell_type": "code",
   "execution_count": null,
   "id": "6af409ed",
   "metadata": {},
   "outputs": [],
   "source": [
    "print(f\"{p1}'s private key {p1private_key}\")\n",
    "print(f\"{p2}'s private key {p2private_key}\")"
   ]
  },
  {
   "cell_type": "markdown",
   "id": "9e8977f0",
   "metadata": {},
   "source": [
    "## The Super Key\n",
    "\n",
    "The super key is the super-secret key that both parties calculate on their own but with different numbers. They should be equal otherwise this won't work. In the video the super key was 10"
   ]
  },
  {
   "cell_type": "code",
   "execution_count": null,
   "id": "e8edfc1b",
   "metadata": {},
   "outputs": [],
   "source": [
    "super_key = pow(p2public_key, p1private_key, prime)\n",
    "super_key2 = pow(p1public_key, p2private_key, prime)\n",
    "\n",
    "if super_key != super_key2:\n",
    "    print(\"Oops, something went wrong...\")\n",
    "    \n",
    "print(f\"super key: {super_key}\")"
   ]
  },
  {
   "cell_type": "markdown",
   "id": "ee6cbfe5",
   "metadata": {},
   "source": [
    "## Sending a message"
   ]
  },
  {
   "cell_type": "markdown",
   "id": "6bd5e43f",
   "metadata": {},
   "source": [
    "### Step 1: encode the message into the computer numeric values"
   ]
  },
  {
   "cell_type": "code",
   "execution_count": null,
   "id": "1e70ef7a",
   "metadata": {},
   "outputs": [],
   "source": [
    "message = input(f\"{p1}, what message do you want to send to {p2}? \")\n",
    "message_array = encode_string(message)\n",
    "print(message_array)"
   ]
  },
  {
   "cell_type": "markdown",
   "id": "df2d6edf",
   "metadata": {},
   "source": [
    "### Step 2: encrypt message"
   ]
  },
  {
   "cell_type": "code",
   "execution_count": null,
   "id": "bff511d3",
   "metadata": {},
   "outputs": [],
   "source": [
    "encrypted = encrypt_message(super_key, message_array, prime)\n",
    "print(encrypted)"
   ]
  },
  {
   "cell_type": "markdown",
   "id": "7577451d",
   "metadata": {},
   "source": [
    "### Step 3: decrypt message"
   ]
  },
  {
   "cell_type": "code",
   "execution_count": null,
   "id": "12ba4d5b",
   "metadata": {},
   "outputs": [],
   "source": [
    "decrypted = decrypt_message(super_key2, encrypted, prime)\n",
    "print(decode_string(decrypted))"
   ]
  }
 ],
 "metadata": {
  "kernelspec": {
   "display_name": "Python 3 (ipykernel)",
   "language": "python",
   "name": "python3"
  },
  "language_info": {
   "codemirror_mode": {
    "name": "ipython",
    "version": 3
   },
   "file_extension": ".py",
   "mimetype": "text/x-python",
   "name": "python",
   "nbconvert_exporter": "python",
   "pygments_lexer": "ipython3",
   "version": "3.10.5"
  }
 },
 "nbformat": 4,
 "nbformat_minor": 5
}
