{
 "cells": [
  {
   "cell_type": "markdown",
   "id": "1c7a227c",
   "metadata": {},
   "source": [
    "# RSA Encryption"
   ]
  },
  {
   "cell_type": "markdown",
   "id": "1958d543",
   "metadata": {},
   "source": [
    "RSA was invented by NORAD in the early 1970's but was deemed top secret. A few years later in 1977, Ron **R**ivest, Adi **S**hamir and Leonard **A**dleman independantly invented the exact same process for encryption and called it RSA.\n",
    "\n",
    "It shares many mathematical similarities with Diffie-Hellman encryption, but it's conceptually a little different. Instead of thinking about public and private keys, RSA can be thought of as sending an unlocked padlock. The receiver of the message has a key and a padlock. He sends his **unlocked** padlock to the sender who then locks his message with the padlock. Then when it's sent back to him he knows the key for decrpytion.\n",
    "\n",
    "The problem RSA solves compared to Diffie-Hellman is that of key storage. When using Diffie-Hellman every key needs to be saved. This can be unwieldy for a large organizaion like a bank, so instead the communication can be done with RSA."
   ]
  },
  {
   "cell_type": "code",
   "execution_count": 1,
   "id": "b377505d",
   "metadata": {},
   "outputs": [],
   "source": [
    "# checks if number is prime or not\n",
    "\n",
    "def is_prime(number):\n",
    "    factors = []\n",
    "    for i in range(2, int(number**0.5)+1):\n",
    "        if (number/i)%1 == 0:\n",
    "            factors.append(i)\n",
    "            \n",
    "    if len(factors) > 0:\n",
    "        return False\n",
    "    else:\n",
    "        return True"
   ]
  },
  {
   "cell_type": "code",
   "execution_count": null,
   "id": "8d29e39d",
   "metadata": {},
   "outputs": [],
   "source": [
    "# returns array of generators of a prime number\n",
    "\n",
    "def calculate_generator(prime):\n",
    "    if is_prime(prime) == False:\n",
    "        return False\n",
    "\n",
    "    generators = []\n",
    "  \n",
    "    for i in range(2, prime):\n",
    "        results = []\n",
    "        for j in range(2, prime):\n",
    "            results.append(pow(i, j, prime))\n",
    "\n",
    "        if len(set(results)) == len(results):\n",
    "            generators.append(i)\n",
    "\n",
    "    return generators"
   ]
  },
  {
   "cell_type": "code",
   "execution_count": 2,
   "id": "c1fd1c99",
   "metadata": {},
   "outputs": [],
   "source": [
    "# calulate phi"
   ]
  },
  {
   "cell_type": "code",
   "execution_count": null,
   "id": "f1a9bf6f",
   "metadata": {},
   "outputs": [],
   "source": []
  }
 ],
 "metadata": {
  "kernelspec": {
   "display_name": "Python 3 (ipykernel)",
   "language": "python",
   "name": "python3"
  },
  "language_info": {
   "codemirror_mode": {
    "name": "ipython",
    "version": 3
   },
   "file_extension": ".py",
   "mimetype": "text/x-python",
   "name": "python",
   "nbconvert_exporter": "python",
   "pygments_lexer": "ipython3",
   "version": "3.10.5"
  }
 },
 "nbformat": 4,
 "nbformat_minor": 5
}
