{
 "cells": [
  {
   "cell_type": "markdown",
   "id": "1c7a227c",
   "metadata": {},
   "source": [
    "# RSA Encryption"
   ]
  },
  {
   "cell_type": "markdown",
   "id": "1958d543",
   "metadata": {},
   "source": [
    "RSA was invented by NORAD in the early 1970's but was deemed top secret. A few years later in 1977, Ron **R**ivest, Adi **S**hamir and Leonard **A**dleman independantly invented the exact same process for encryption and called it RSA.\n",
    "\n",
    "It shares many mathematical similarities with Diffie-Hellman encryption, but it's conceptually a little different. Instead of thinking about public and private keys, RSA can be thought of as sending an unlocked padlock. The receiver of the message has a key and a padlock. He sends his **unlocked** padlock to the sender who then locks his message with"
   ]
  },
  {
   "cell_type": "code",
   "execution_count": null,
   "id": "b377505d",
   "metadata": {},
   "outputs": [],
   "source": []
  }
 ],
 "metadata": {
  "kernelspec": {
   "display_name": "Python 3 (ipykernel)",
   "language": "python",
   "name": "python3"
  },
  "language_info": {
   "codemirror_mode": {
    "name": "ipython",
    "version": 3
   },
   "file_extension": ".py",
   "mimetype": "text/x-python",
   "name": "python",
   "nbconvert_exporter": "python",
   "pygments_lexer": "ipython3",
   "version": "3.10.5"
  }
 },
 "nbformat": 4,
 "nbformat_minor": 5
}
