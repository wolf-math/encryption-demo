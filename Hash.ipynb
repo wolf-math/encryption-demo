{
 "cells": [
  {
   "cell_type": "markdown",
   "id": "86819e47",
   "metadata": {},
   "source": [
    "# Hashing\n",
    "\n",
    "Hashing is a one way function that's used in encryption sceneios where the goal is secure storage, data integrity, and verification. The original use that led to the creation of hashing functions was digital signatures. It's basically a function that creates a summary of the whole, but the whole cannot be extrapolated from the hash. Any website you've logged into with a password _should be_ storing your password as a hash, meaning the maintainers of said website couldn't extrapolate your password even if they wanted to. It's just saved as a hash which is represented by a random string. \n",
    "\n",
    "Hashing can also work to verify data. If you've ever downloaded a Linux `.iso` and the instructions tell you to run `sha256sum linux_mint.iso`, the output will be a hash and it should match what the Linux Mint website says, otherwise someone may have tampered with it or it could be currupt. \n",
    "\n",
    "## Hashing algorithms\n",
    "\n",
    "There are many different hashing algorithms that can be used, but most of them follow the same basic process. It is a mathematical function that takes a particular input (a password for instance) and converts it through some mathematical means into a digest, also sometimes referred to as tags or just hashes. \n",
    "\n",
    "There are a few commonalities that good hashing algorithms share:\n",
    "\n",
    "1. **It's deterministic**: This means that an input will always result in the same output.\n",
    "2. **Fixed length**: The input can be as large as the user wants, however, the output will always be a fixed length. For instance `sah256sum` always procudes a hash that is 256 bits. \n",
    "3. **It's fast**, but also not too fast: It needs to be fast for performance, but if it's too fast that indicates that it's not performing enough computation to create a _good_ hash.\n",
    "4. **The avalanche principal**: If even a single bit of data has changed, no matter where in the file, the resulting hash will be drastically different.\n",
    "5. **Collision resistant**: Two inputs never create the same output. While there are an incredible number of possible hashes out there, there are still only a finite number of them. Therefore in the natural course of using a hash function it's possible that two files can create the same hash. However the function should be collision resistant enough that intentionally creating two files that generate the same hash is unlikely and virtually impossible. If this was possible, forging documents would be easy and that's bad. Due to their extensive use, and known collision resistance issues, there are a few hashing algorithms that are considered broken including SHA1 and MD5.\n",
    "\n",
    "## Let's see SHA-1 in action\n",
    "\n",
    "SHA stands for **S**ecure **H**ash **A**lgorithm, even though, ironically, it's no longer secure. What it does is it takes any size input and returns a 160 bit binary sequence. \n",
    "\n",
    "1. The message is padded to ensure its length is a multiple of 512 bits. Padding involves appending bits until it's a multiple of 512.\n",
    "2. SHA-1 begins with five initial hash values of 32 bits each.\n",
    "3. Each 512-bit block is broken down into sixteen 32-bit words.\n",
    "4. These sixteen 32-bit words are expanded into eighty 32-bit words using certain operations.\n",
    "5. SHA-1 uses a main loop that iterates 80 times for each block. In each iteration, a compression function is applied, which includes bitwise operations (AND, OR, XOR), conditional operations, and circular left shifts.\n",
    "6. After processing each 512-bit block, the five hash values are updated. This involves adding the values computed in the main loop to the current hash values. For the first block, the initial hash values are used. For subsequent blocks, the updated hash values from the previous block are used.\n",
    "7. After all blocks have been processed, the final hash value is produced by concatenating the five updated hash values.\n",
    "\n",
    "## Python for SHA-1\n",
    "\n",
    "Let's write some Python to create a SHA-1 hash. **Note** that as stated above SHA-1 is no longer considered safe. **Don't use it in production!!!** \n",
    "\n",
    "Using the hashlib library it's easy to generate a hash from a number of different algorithms. Feel free to try them all.\n"
   ]
  },
  {
   "cell_type": "code",
   "execution_count": null,
   "id": "c38e43c7-90cc-44cf-9987-7478f7330b87",
   "metadata": {},
   "outputs": [],
   "source": [
    "import hashlib\n",
    "\n",
    "def sha1_hash(input_string):\n",
    "    # Create a SHA-1 hash object\n",
    "    hash_object = hashlib.sha1()\n",
    "\n",
    "    hash_object.update(input_string.encode())\n",
    "\n",
    "    # Get the hexadecimal representation of the hash\n",
    "    hex_digest = hash_object.hexdigest()\n",
    "\n",
    "    return hex_digest\n"
   ]
  },
  {
   "cell_type": "code",
   "execution_count": null,
   "id": "47d31cbf-c517-4491-85bb-c189146f7b58",
   "metadata": {},
   "outputs": [],
   "source": [
    "input_string = input('Enter a string to hash: ')\n",
    "result = sha1_hash(input_string)\n",
    "\n",
    "print(f\"The SHA-1 hash of '{input_string}' is: {result}\")\n"
   ]
  }
 ],
 "metadata": {
  "kernelspec": {
   "display_name": "Python 3 (ipykernel)",
   "language": "python",
   "name": "python3"
  },
  "language_info": {
   "codemirror_mode": {
    "name": "ipython",
    "version": 3
   },
   "file_extension": ".py",
   "mimetype": "text/x-python",
   "name": "python",
   "nbconvert_exporter": "python",
   "pygments_lexer": "ipython3",
   "version": "3.10.5"
  }
 },
 "nbformat": 4,
 "nbformat_minor": 5
}
